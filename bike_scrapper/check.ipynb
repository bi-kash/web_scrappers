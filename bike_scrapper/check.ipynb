{
 "cells": [
  {
   "cell_type": "code",
   "execution_count": 32,
   "metadata": {},
   "outputs": [],
   "source": [
    "from bs4 import BeautifulSoup\n",
    "import requests\n",
    "import pandas as pd\n",
    "from concurrent.futures import ThreadPoolExecutor\n",
    "import re\n",
    "import time"
   ]
  },
  {
   "cell_type": "code",
   "execution_count": 33,
   "metadata": {},
   "outputs": [],
   "source": [
    "\n",
    "base_url = \"https://www.fahrrad-xxl.de/fahrraeder/mountainbikes/seite/\"\n",
    "page = 0\n",
    "rows = []\n",
    "while True:\n",
    "    page+=1\n",
    "    web_page = requests.get(base_url+str(page))\n",
    "    soup = BeautifulSoup(web_page.content, features=\"lxml\")\n",
    "    shop_name = \"fahrrad-xxl\"\n",
    "    language = \"de\"\n",
    "    category = \"MountainBikes\"\n",
    "\n",
    "    bikes = soup.find_all(\"div\", class_ = \"fxxl-element-artikel fxxl-element-artikel--slider\")\n",
    "    if len(bikes)<10:\n",
    "        break\n",
    "\n",
    "\n",
    "    for bike in bikes:\n",
    "        url_detail = bike.find(\"a\")['href']\n",
    "\n",
    "        year = \"\"\n",
    "\n",
    "        brand = bike.find(\"div\", class_=\"fxxl-element-artikel__brand\").text\n",
    "        model = bike.find(\"div\", class_=\"fxxl-element-artikel__title\").text.strip()\n",
    "        years = re.findall('[0-9]+', model)\n",
    "        for year_temp in years:\n",
    "            try:\n",
    "                year = int(year_temp)\n",
    "                if not (year > 1990 and year < 2050):\n",
    "                    year = \"\"\n",
    "                else:\n",
    "                    break\n",
    "                \n",
    "            except:\n",
    "                year = \"\"\n",
    "        #stock_text = bike.find(\"div\", class_=\"productbox-ribbon\").text\n",
    "        price = bike.find(\"div\", class_ = \"fxxl-element-artikel__price--new\")\n",
    "        if not price:\n",
    "            price = bike.find(\"div\", class_ = \"fxxl-price\")\n",
    "            price = price.text.strip().split()[0].replace(\".\", \"\").replace(\",\", \".\").replace(\"-\", \"\")\n",
    "\n",
    "        else:\n",
    "            price = price.text.strip().split()\n",
    "            if price[0] == \"ab\":\n",
    "                price = price[1].replace(\".\", \"\").replace(\",\", \".\").replace(\"-\", \"\")\n",
    "            else:\n",
    "                price = price[0].replace(\".\", \"\").replace(\",\", \".\").replace(\"-\", \"\")\n",
    "        rrp = bike.find(\"span\", class_ = \"fxxl-strike-price\")\n",
    "        if rrp:\n",
    "            rrp = rrp.text.strip().split()[0].replace(\".\", \"\").replace(\",\", \".\").replace(\"-\", \"\")\n",
    "        else:\n",
    "            rrp = \"\"\n",
    "        \n",
    "        stock_sizes = bike.find_all(\"div\", class_=\"fxxl-element-artikel__variant-slider-size-item\")\n",
    "        if stock_sizes:\n",
    "            stock_sizes = [item.text for item in stock_sizes]\n",
    "        \n",
    "        stock_sizes = \", \".join(stock_sizes)\n",
    "        rows.append(\n",
    "            {\n",
    "                \"shop_name\": shop_name,\n",
    "                \"language\": language,\n",
    "                \"year\": year,\n",
    "                \"brand\": brand,\n",
    "                \"modell\": model,\n",
    "                \"condition\": \"new\",\n",
    "                \"category_shop\": category,\n",
    "                \"stock_status\": 1,\n",
    "                \"stock_text\": \"\",\n",
    "                \"stock_sizes\": stock_sizes,\n",
    "                \"url-detail\": url_detail,\n",
    "                \"price\": price,\n",
    "                \"rrp\": rrp,\n",
    "            }\n",
    "        )\n",
    "    "
   ]
  },
  {
   "cell_type": "code",
   "execution_count": null,
   "metadata": {},
   "outputs": [],
   "source": [
    "pd.DataFrame.from_records(rows).to_csv(\"fahrrad-xxl.csv\")"
   ]
  }
 ],
 "metadata": {
  "kernelspec": {
   "display_name": "Python 3",
   "language": "python",
   "name": "python3"
  },
  "language_info": {
   "codemirror_mode": {
    "name": "ipython",
    "version": 3
   },
   "file_extension": ".py",
   "mimetype": "text/x-python",
   "name": "python",
   "nbconvert_exporter": "python",
   "pygments_lexer": "ipython3",
   "version": "3.8.1 (tags/v3.8.1:1b293b6, Dec 18 2019, 23:11:46) [MSC v.1916 64 bit (AMD64)]"
  },
  "orig_nbformat": 4,
  "vscode": {
   "interpreter": {
    "hash": "aea6e12cd70545ccb1bbb6225a702369953834bf76a5ed20fef56fc81dda8e44"
   }
  }
 },
 "nbformat": 4,
 "nbformat_minor": 2
}
