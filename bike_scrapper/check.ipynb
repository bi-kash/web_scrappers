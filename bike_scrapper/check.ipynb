{
 "cells": [
  {
   "cell_type": "code",
   "execution_count": 53,
   "metadata": {},
   "outputs": [],
   "source": [
    "import pandas as pd\n",
    "from selenium import webdriver\n",
    "from selenium.webdriver.chrome.service import Service\n",
    "from webdriver_manager.chrome import ChromeDriverManager\n",
    "from selenium.webdriver.common.by import By\n",
    "from selenium.webdriver.support.ui import WebDriverWait\n",
    "import re\n",
    "\n",
    "# Need these: shop_name,language,year,brand,modell,condition,category_shop,stock_status,stock_text,stock_sizes,url-detail,price,rrp\n",
    "def get_driver():\n",
    "    chromeOptions = webdriver.ChromeOptions()\n",
    "\n",
    "    # Headless is faster. If headless is False then it opens a browser and you can see action of web driver. You can try making it False\n",
    "    chromeOptions.headless = False\n",
    "    chromeOptions.add_argument('--log-level=3')\n",
    "\n",
    "    # installs chrome driver automatically if not present\n",
    "    s = Service(ChromeDriverManager().install())\n",
    "    #chromeOptions.add_argument(\"user-data-dir=/home/bikash/.config/google-chrome/Profile 1\")\n",
    "\n",
    "    driver = webdriver.Chrome(service=Service(ChromeDriverManager().install()), options=chromeOptions)\n",
    "    return driver"
   ]
  },
  {
   "cell_type": "code",
   "execution_count": 54,
   "metadata": {},
   "outputs": [],
   "source": [
    "driver = get_driver()\n"
   ]
  },
  {
   "cell_type": "code",
   "execution_count": 55,
   "metadata": {},
   "outputs": [
    {
     "name": "stdout",
     "output_type": "stream",
     "text": [
      "graphite´n´metal\n",
      "{'year': '2022', 'stock_sizes': 'Sofort lieferbar: 14 Zoll, 16 Zoll, 18 Zoll, 20 Zoll, 22 Zoll, 24 Zoll\\n', 'stock_text': 'Lieferzeiten', 'modell': 'Cube Aim SL 2022 | 24 Zoll | graphite´n´metal | 29 Zoll', 'stock_status': 1}\n",
      "prismagrey´n´blue´n´red\n",
      "{'year': '2022', 'stock_sizes': 'Sofort lieferbar: 14 Zoll, 16 Zoll, 18 Zoll, 20 Zoll, 22 Zoll, 24 Zoll\\n', 'stock_text': 'Lieferzeiten', 'modell': 'Cube Aim SL 2022 | 24 Zoll | prismagrey´n´blue´n´red | 29 Zoll', 'stock_status': 1}\n"
     ]
    }
   ],
   "source": [
    "rows = []\n",
    "driver.get('https://www.lucky-bike.de/Fahrraeder/Cube-Aim-SL-2022.html?varselid[1]=de13b84d39a76576fecfd7190dd05715')\n",
    "import time\n",
    "wait = WebDriverWait(driver, 10)\n",
    "wait.until(lambda driver: driver.find_element(By.ID, \"usercentrics-root\"))\n",
    "shadow_host = driver.find_element(By.ID, \"usercentrics-root\")\n",
    "script = \"return arguments[0].shadowRoot\"\n",
    "\n",
    "shadow_root = driver.execute_script(script, shadow_host)\n",
    "wait.until(\n",
    "    lambda driver: shadow_root.find_element(By.CLASS_NAME, \"sc-eDvSVe.eVGbhR\")\n",
    ")\n",
    "for i in range(5):\n",
    "    try:\n",
    "        shadow_root.find_element(By.CLASS_NAME, \"sc-eDvSVe.eVGbhR\").click()\n",
    "        break\n",
    "    except:\n",
    "        time.sleep(2)\n",
    "variants = driver.find_element(By.CLASS_NAME, 'kmt-variantselection-list').find_elements(By.TAG_NAME, 'span')\n",
    "for i in range(len(variants)):\n",
    "    driver.find_element(By.CLASS_NAME, 'kmt-variantselection-list').find_elements(By.TAG_NAME, 'span')[i].click()\n",
    "    stock_sizes = []\n",
    "\n",
    "    for item in driver.find_element(By.CLASS_NAME, \"kmt-select\").find_elements(\n",
    "        By.TAG_NAME, \"option\"\n",
    "    )[1:]:\n",
    "        stock_sizes.append(item.get_attribute(\"innerText\").strip().split(\"\\n\")[0])\n",
    "    status_dict = {}\n",
    "    count_stock = 0\n",
    "    no_status = []\n",
    "    for stock_size in stock_sizes:\n",
    "\n",
    "        try:\n",
    "            count_stock += 1\n",
    "            options = driver.find_element(\n",
    "                By.CLASS_NAME, \"kmt-select\"\n",
    "            ).find_elements(By.TAG_NAME, \"option\")\n",
    "            options[count_stock].click()\n",
    "\n",
    "            wait.until(\n",
    "                lambda driver: driver.find_element(\n",
    "                    By.CLASS_NAME, \"kmt-shippingselection-status\"\n",
    "                )\n",
    "            )\n",
    "            time.sleep(2)\n",
    "            try:\n",
    "                status = driver.find_element(\n",
    "                    By.CLASS_NAME, \"kmt-shippingselection-status\"\n",
    "                ).get_attribute(\"innerText\")\n",
    "            except:\n",
    "                status = driver.find_element(\n",
    "                    By.CLASS_NAME, \"kmt-shippingselection-delivery\"\n",
    "                ).get_attribute(\"innerText\")\n",
    "\n",
    "            if status not in status_dict:\n",
    "                status_dict.update({status: [stock_size]})\n",
    "            else:\n",
    "                status_dict[status].append(stock_size)\n",
    "        except:\n",
    "            no_status.append(stock_size)\n",
    "            print(\n",
    "                \"No status for this stock size:\",\n",
    "                stock_size,\n",
    "                \" at \"\n",
    "            )\n",
    "\n",
    "    stock_sizes = \"\"\n",
    "    for status, values in status_dict.items():\n",
    "        stock_sizes += status + \": \" + \", \".join(values) + \"\\n\"\n",
    "    stock_status=1\n",
    "    if stock_sizes.strip() == '':\n",
    "        stock_status=0\n",
    "\n",
    "    model = driver.find_element(By.CLASS_NAME, \"kmt-productmain-title\").text.strip()\n",
    "    year = model.split(\"|\")[0].strip()[-4:]\n",
    "    color = driver.find_element(By.CLASS_NAME, 'kmt-productmain-variants').find_element(By.TAG_NAME, 'span').text\n",
    "    print(color)\n",
    "    if color not in model:\n",
    "        model+=\" | \"+color\n",
    "\n",
    "    stock_text = (\n",
    "        driver.find_element(By.CLASS_NAME, \"kmt-iconlistitem\")\n",
    "        .find_element(By.TAG_NAME, \"div\")\n",
    "        .get_attribute(\"innerText\")\n",
    "    )\n",
    "    print({\"year\":year, \"stock_sizes\": stock_sizes, \"stock_text\": stock_text, \"modell\": model, \"stock_status\":stock_status})"
   ]
  },
  {
   "cell_type": "code",
   "execution_count": 56,
   "metadata": {},
   "outputs": [
    {
     "data": {
      "text/plain": [
       "[<selenium.webdriver.remote.webelement.WebElement (session=\"0a0c8f5264f25b2fb3dcddd4f87979c9\", element=\"725f4b55-3b73-4df9-879e-5a01408f5f77\")>,\n",
       " <selenium.webdriver.remote.webelement.WebElement (session=\"0a0c8f5264f25b2fb3dcddd4f87979c9\", element=\"7437e6f1-80d8-4b3d-bcc4-b1babc908986\")>]"
      ]
     },
     "execution_count": 56,
     "metadata": {},
     "output_type": "execute_result"
    }
   ],
   "source": [
    "variants"
   ]
  },
  {
   "cell_type": "code",
   "execution_count": null,
   "metadata": {},
   "outputs": [],
   "source": []
  },
  {
   "cell_type": "code",
   "execution_count": null,
   "metadata": {},
   "outputs": [],
   "source": []
  }
 ],
 "metadata": {
  "kernelspec": {
   "display_name": "Python 3",
   "language": "python",
   "name": "python3"
  },
  "language_info": {
   "codemirror_mode": {
    "name": "ipython",
    "version": 3
   },
   "file_extension": ".py",
   "mimetype": "text/x-python",
   "name": "python",
   "nbconvert_exporter": "python",
   "pygments_lexer": "ipython3",
   "version": "3.8.1"
  },
  "orig_nbformat": 4,
  "vscode": {
   "interpreter": {
    "hash": "aea6e12cd70545ccb1bbb6225a702369953834bf76a5ed20fef56fc81dda8e44"
   }
  }
 },
 "nbformat": 4,
 "nbformat_minor": 2
}
